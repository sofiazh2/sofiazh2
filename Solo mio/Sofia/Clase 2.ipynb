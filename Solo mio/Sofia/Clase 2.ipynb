{
 "cells": [
  {
   "cell_type": "markdown",
   "metadata": {},
   "source": [
    "# Clase 2: Uso de estructuras de control condicionales (if, else, elif)"
   ]
  },
  {
   "cell_type": "code",
   "execution_count": 2,
   "metadata": {},
   "outputs": [
    {
     "name": "stdout",
     "output_type": "stream",
     "text": [
      "Nombre ingresado: Gandalf\n"
     ]
    }
   ],
   "source": [
    "Nombre = input ('Ingrese un nombre')\n",
    "print ('Nombre ingresado:', Nombre)\n",
    "Edad = int (input ('Ingrese edad'))\n",
    "\n"
   ]
  },
  {
   "cell_type": "markdown",
   "metadata": {},
   "source": [
    "### Ejercicio\n",
    "Crear dos variables, la primera edad y la otra sexo, usando input e if para determinar si la persona es mayor de edad\n"
   ]
  },
  {
   "cell_type": "code",
   "execution_count": 2,
   "metadata": {},
   "outputs": [
    {
     "name": "stdout",
     "output_type": "stream",
     "text": [
      "Ingrese nombre sofia\n",
      "Ingrese edad 54\n",
      "Felicitaciones\n"
     ]
    }
   ],
   "source": [
    "Nombre = input ('Ingrese nombre')\n",
    "print ('Ingrese nombre', Nombre)\n",
    "Edad = int(input('Ingrese edad'))\n",
    "print ('Ingrese edad', Edad)\n",
    "Sexo = input ('Ingrese sexo')\n",
    "if Edad >= 18:\n",
    "    print ('Felicitaciones')\n",
    "else:\n",
    "    print ('El exceso de alcohol es perjudicial para la salud')\n",
    "\n"
   ]
  },
  {
   "cell_type": "markdown",
   "metadata": {},
   "source": [
    "## Ejercicio 2\n",
    "Crear un código que al ingresar, nombre y edad, realice una clasificación por edad (niño, adolescente, adulto joven, adulto y adulto mayor)"
   ]
  },
  {
   "cell_type": "code",
   "execution_count": 2,
   "metadata": {},
   "outputs": [
    {
     "name": "stdout",
     "output_type": "stream",
     "text": [
      "Ingrese nombre Yuliana\n",
      "Eres un adulto joven\n"
     ]
    }
   ],
   "source": [
    "Nombre = input ('Ingrese nombre:') \n",
    "print ('Ingrese nombre' , Nombre)\n",
    "Edad = int(input ('Ingrese edad'))\n",
    "if Edad <= 10:\n",
    "    print('Eres un nino')\n",
    "if 10< Edad < 18:\n",
    "    print('Eres un adolescente')\n",
    "if  18< Edad <=25:\n",
    "    print('Eres un adulto joven')\n",
    "if 26< Edad <65:\n",
    "    print('Eres un adulto')\n",
    "if Edad >=65:\n",
    "    print('Eres un adulto mayor')\n"
   ]
  },
  {
   "cell_type": "markdown",
   "metadata": {},
   "source": [
    "### Ejercicio 3\n",
    "Realizar un código que al ingresar el sexo y la presión arterial media, te clasifique como presión baja, presión normal o presión alta\n",
    "\n",
    "* El código resuelto por mi (con las patas):"
   ]
  },
  {
   "cell_type": "code",
   "execution_count": 26,
   "metadata": {},
   "outputs": [
    {
     "name": "stdout",
     "output_type": "stream",
     "text": [
      "Ingrese sexo como H o M H\n",
      "Eres un hombre con la presion alta\n"
     ]
    }
   ],
   "source": [
    "Sexo = input ('Ingrese sexo')\n",
    "print ('Ingrese sexo como H o M', Sexo)\n",
    "Presion_arterial_media = int (input ('Ingrese presion arterial media'))\n",
    "if Sexo == 'M' and Presion_arterial_media <100:\n",
    "    print ('Eres una mujer con la presion media baja')\n",
    "elif Sexo == 'M' and Presion_arterial_media == 100:\n",
    "    print ('Eres una mujer con la presion super bien')\n",
    "elif Sexo =='M' and Presion_arterial_media > 100:\n",
    "    print ('Eres una mujer con la presion alta')\n",
    "elif Sexo == 'H' and Presion_arterial_media <100:\n",
    "    print ('Eres un hombre con la presion media baja')\n",
    "elif Sexo == 'H' and Presion_arterial_media == 100:\n",
    "    print ('Eres un hombre con la presion super bien')\n",
    "else :\n",
    "    print ('Eres un hombre con la presion alta')\n",
    "\n"
   ]
  },
  {
   "cell_type": "markdown",
   "metadata": {},
   "source": [
    "* Resuelto por el profe de forma más eficiente:"
   ]
  },
  {
   "cell_type": "code",
   "execution_count": 33,
   "metadata": {},
   "outputs": [
    {
     "name": "stdout",
     "output_type": "stream",
     "text": [
      "Eres una mujer con la presion baja\n"
     ]
    }
   ],
   "source": [
    "sexo = input('Introduce tu sexo (H/M):')\n",
    "pam =int (input('Introduce tu pam:'))\n",
    "if sexo =='H':\n",
    "    if pam < 100:\n",
    "        print('Eres un hombre con la presion baja')\n",
    "    elif pam == 100:\n",
    "        print('Eres un hombre perfecto')\n",
    "    else:\n",
    "        print('Eres un hombre con la presion alta')\n",
    "else:\n",
    "    if pam < 100:\n",
    "        print('Eres una mujer con la presion baja')\n",
    "    elif pam == 100:\n",
    "        print('Eres una mujer prefecta')\n",
    "    else:\n",
    "        print('Eres una mujer con la presion alta')"
   ]
  }
 ],
 "metadata": {
  "kernelspec": {
   "display_name": "base",
   "language": "python",
   "name": "python3"
  },
  "language_info": {
   "codemirror_mode": {
    "name": "ipython",
    "version": 3
   },
   "file_extension": ".py",
   "mimetype": "text/x-python",
   "name": "python",
   "nbconvert_exporter": "python",
   "pygments_lexer": "ipython3",
   "version": "3.12.4"
  }
 },
 "nbformat": 4,
 "nbformat_minor": 2
}
