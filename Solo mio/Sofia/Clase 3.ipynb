{
 "cells": [
  {
   "cell_type": "markdown",
   "metadata": {},
   "source": [
    "# Clase 3: Uso de listas y estructuras de control de tipo bucle (for)"
   ]
  },
  {
   "cell_type": "markdown",
   "metadata": {},
   "source": [
    "### Ejercicio 1\n",
    "Crear una lista con todos los participantes de la clase que incluyan nombre, altura, edad y el nombre de la mascota"
   ]
  },
  {
   "cell_type": "code",
   "execution_count": 13,
   "metadata": {},
   "outputs": [
    {
     "name": "stdout",
     "output_type": "stream",
     "text": [
      "[['Sofia', 1.64, 'Gandalf', 'Merlin', 'Chimuela', 'Lola'], ['Johan', 37, 1.73, 'Ada'], ['Andrea', 25, 1.6, 'NA'], ['Johanna', 44, 1.58, '3 hijas'], ['Carolina', 35, 1.59, 'NA'], ['Raquel', 37, 1.6, 'Sammy'], ['Monica', 28, 1.58, 'NA']]\n"
     ]
    }
   ],
   "source": [
    "mi_lista =[['Sofia',1.64,'Gandalf','Merlin','Chimuela','Lola'],\n",
    "           ['Johan', 37,1.73,'Ada'],\n",
    "           ['Andrea',25,1.60,'NA'],\n",
    "           ['Johanna',44,1.58,'3 hijas'],\n",
    "           ['Carolina',35,1.59,'NA'],\n",
    "           ['Raquel',37,1.60,'Sammy'],\n",
    "           ['Monica',28,1.58,'NA']]\n",
    "print(mi_lista)\n",
    "\n"
   ]
  },
  {
   "cell_type": "code",
   "execution_count": 5,
   "metadata": {},
   "outputs": [
    {
     "name": "stdout",
     "output_type": "stream",
     "text": [
      "Sofia\n",
      "Johan\n",
      "Andrea\n",
      "Johanna\n",
      "Carolina\n",
      "Raquel\n",
      "Monica\n"
     ]
    }
   ],
   "source": [
    "print(mi_lista[0][0])\n",
    "print(mi_lista[1][0])\n",
    "print(mi_lista[2][0])\n",
    "print(mi_lista[3][0])\n",
    "print(mi_lista[4][0])\n",
    "print(mi_lista[5][0])\n",
    "print(mi_lista[6][0])"
   ]
  },
  {
   "cell_type": "code",
   "execution_count": 16,
   "metadata": {},
   "outputs": [
    {
     "name": "stdout",
     "output_type": "stream",
     "text": [
      "Sofia 1.64 Gandalf\n",
      "Johan 37 1.73\n",
      "Andrea 25 1.6\n",
      "Johanna 44 1.58\n",
      "Carolina 35 1.59\n",
      "Raquel 37 1.6\n",
      "Monica 28 1.58\n"
     ]
    }
   ],
   "source": [
    "for persona in mi_lista:\n",
    "    print(persona[0],persona[1], persona[2])\n"
   ]
  },
  {
   "cell_type": "code",
   "execution_count": 15,
   "metadata": {},
   "outputs": [
    {
     "name": "stdout",
     "output_type": "stream",
     "text": [
      "[1.64, 'Gandalf']\n",
      "[37, 1.73]\n",
      "[25, 1.6]\n",
      "[44, 1.58]\n",
      "[35, 1.59]\n",
      "[37, 1.6]\n",
      "[28, 1.58]\n"
     ]
    }
   ],
   "source": [
    "for lista in mi_lista:\n",
    "    print(lista[1:3])\n"
   ]
  },
  {
   "cell_type": "code",
   "execution_count": 11,
   "metadata": {},
   "outputs": [
    {
     "name": "stdout",
     "output_type": "stream",
     "text": [
      "[1.64, 'Gandalf', 'Merlin']\n",
      "[37, 1.73, 'Ada']\n",
      "[25, 1.6, 'NA']\n",
      "[44, 1.58, '3 hijas']\n",
      "[35, 1.59, 'NA']\n",
      "[37, 1.6, 'Sammy']\n",
      "[28, 1.58, 'NA']\n"
     ]
    }
   ],
   "source": [
    "for lista in mi_lista:\n",
    "    print(lista[1:4])"
   ]
  },
  {
   "cell_type": "code",
   "execution_count": 14,
   "metadata": {},
   "outputs": [
    {
     "name": "stdout",
     "output_type": "stream",
     "text": [
      "Sofia\n",
      "1.64\n",
      "Gandalf\n",
      "Merlin\n",
      "Chimuela\n",
      "Lola\n",
      "Johan\n",
      "37\n",
      "1.73\n",
      "Ada\n",
      "Andrea\n",
      "25\n",
      "1.6\n",
      "NA\n",
      "Johanna\n",
      "44\n",
      "1.58\n",
      "3 hijas\n",
      "Carolina\n",
      "35\n",
      "1.59\n",
      "NA\n",
      "Raquel\n",
      "37\n",
      "1.6\n",
      "Sammy\n",
      "Monica\n",
      "28\n",
      "1.58\n",
      "NA\n"
     ]
    }
   ],
   "source": [
    "for persona in mi_lista:\n",
    "    for dato in persona:\n",
    "        print(dato)\n"
   ]
  },
  {
   "cell_type": "markdown",
   "metadata": {},
   "source": [
    "### Ejercicio 2\n",
    "Crear una función que sume dos números"
   ]
  },
  {
   "cell_type": "code",
   "execution_count": 17,
   "metadata": {},
   "outputs": [],
   "source": [
    "def sumar (numb_a,numb_b):\n",
    "    resultado = numb_a + numb_b\n",
    "    return resultado"
   ]
  },
  {
   "cell_type": "code",
   "execution_count": 18,
   "metadata": {},
   "outputs": [
    {
     "data": {
      "text/plain": [
       "13"
      ]
     },
     "execution_count": 18,
     "metadata": {},
     "output_type": "execute_result"
    }
   ],
   "source": [
    "sumar(6,7)"
   ]
  },
  {
   "cell_type": "markdown",
   "metadata": {},
   "source": [
    "### Ejercicio 3\n",
    "Crear una lista con todos los participantes de la clase que incluyan nombre, peso, edad y el nombre de la mascota"
   ]
  },
  {
   "cell_type": "code",
   "execution_count": 27,
   "metadata": {},
   "outputs": [],
   "source": [
    "mi_nueva_lista =[['Sofia',69,1.64,'Gandalf','Merlin','Chimuela','Lola'],\n",
    "           ['Johan', 76, 1.73,'Ada'],\n",
    "           ['Andrea',65,1.60,'NA'],\n",
    "           ['Johanna',54,1.58,'3 hijas'],\n",
    "           ['Carolina',67,1.59,'NA'],\n",
    "           ['Raquel',50,1.60,'Sammy'],\n",
    "           ['Monica',65,1.58,'NA']]"
   ]
  },
  {
   "cell_type": "markdown",
   "metadata": {},
   "source": [
    "* Crear una función que calcule el IMC"
   ]
  },
  {
   "cell_type": "code",
   "execution_count": 20,
   "metadata": {},
   "outputs": [],
   "source": [
    "def calcular_imc (peso,talla):\n",
    "    return peso/(talla**2)"
   ]
  },
  {
   "cell_type": "markdown",
   "metadata": {},
   "source": [
    "* Usar la función creada en el item anterior para calcular el IMC de cada participante de la clase almacendo en la lista"
   ]
  },
  {
   "cell_type": "code",
   "execution_count": 28,
   "metadata": {},
   "outputs": [
    {
     "name": "stdout",
     "output_type": "stream",
     "text": [
      "El imc de Sofia es 25.654372397382513 felicitaciones, estas muy bien asi\n",
      "El imc de Johan es 25.393431120318084 felicitaciones, estas muy bien asi\n",
      "El imc de Andrea es 25.390624999999996 felicitaciones, estas muy bien asi\n",
      "El imc de Johanna es 21.63114885435026 felicitaciones, estas muy bien asi\n",
      "El imc de Carolina es 26.502116213757365 felicitaciones, estas muy bien asi\n",
      "El imc de Raquel es 19.531249999999996 felicitaciones, estas muy bien asi\n",
      "El imc de Monica es 26.037493991347535 felicitaciones, estas muy bien asi\n"
     ]
    }
   ],
   "source": [
    "for persona in mi_nueva_lista:\n",
    "    imc = calcular_imc (persona[1], persona[2])\n",
    "    print ('El imc de', persona [0],'es',imc,'felicitaciones, estas muy bien asi')"
   ]
  }
 ],
 "metadata": {
  "kernelspec": {
   "display_name": "base",
   "language": "python",
   "name": "python3"
  },
  "language_info": {
   "codemirror_mode": {
    "name": "ipython",
    "version": 3
   },
   "file_extension": ".py",
   "mimetype": "text/x-python",
   "name": "python",
   "nbconvert_exporter": "python",
   "pygments_lexer": "ipython3",
   "version": "3.12.4"
  }
 },
 "nbformat": 4,
 "nbformat_minor": 2
}
