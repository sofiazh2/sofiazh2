{
 "cells": [
  {
   "cell_type": "markdown",
   "metadata": {},
   "source": [
    "Tipos de complejidad\n",
    "\n",
    "n2 (ene cuadrado)"
   ]
  },
  {
   "cell_type": "markdown",
   "metadata": {},
   "source": [
    "#Elementos iterables: \n"
   ]
  },
  {
   "cell_type": "markdown",
   "metadata": {},
   "source": [
    "Lista: puede ser una cadena de texto. Se ejemplifica con los corchetes. \n",
    "\n",
    "mi_lista = [7,8,9,6,5]\n",
    "\n",
    "Esta lista siempre va en corchete, las posiciones siempre empiezan por cero, tiene cinco índices que empiezan en cero. Esta es una lista de enteros, pero también se puede tener una lista combinada.  Puede estar o no ordenada."
   ]
  },
  {
   "cell_type": "code",
   "execution_count": 1,
   "metadata": {},
   "outputs": [
    {
     "name": "stdout",
     "output_type": "stream",
     "text": [
      "7\n"
     ]
    }
   ],
   "source": [
    "mi_lista = [7,8,9,6,5]\n",
    "print (mi_lista [0])"
   ]
  },
  {
   "cell_type": "markdown",
   "metadata": {},
   "source": [
    "Una lista puede ir dentro de otra lista: \n",
    "\n",
    "mi_lista_primaria = [7,8,9,5]\n",
    "\n",
    "mi_lista_secundaria = [7,8,9,01,11,mi_lista_primaria]\n"
   ]
  },
  {
   "cell_type": "markdown",
   "metadata": {},
   "source": [
    "Llamar elementos de varias listas: revisar. \n"
   ]
  },
  {
   "cell_type": "markdown",
   "metadata": {},
   "source": [
    "Hacer una lista con una base de datos: "
   ]
  },
  {
   "cell_type": "markdown",
   "metadata": {},
   "source": [
    "Lista de listas: es una matriz, dos dimensiones. \n",
    "\n",
    "\n",
    "\n"
   ]
  },
  {
   "cell_type": "code",
   "execution_count": 2,
   "metadata": {},
   "outputs": [
    {
     "name": "stdout",
     "output_type": "stream",
     "text": [
      "[['Sofía', 37, 1.73, 'Ada'], ['Sofía', 23, 1.64, 'Gandalf'], ['Andrea', 25, 1.6, 'NA'], ['Johanna', 44, 1.58, '3 hijos'], ['Carolina', 35, 1.59, 'NA']]\n"
     ]
    }
   ],
   "source": [
    "mi_lista = [[\"Sofía\",37,1.73,\"Ada\"],\n",
    "            [\"Sofía\",23,1.64,\"Gandalf\"],\n",
    "            [\"Andrea\",25,1.60,\"NA\"],\n",
    "            [\"Johanna\",44,1.58,\"3 hijos\"],\n",
    "            [\"Carolina\",35,1.59,\"NA\"]]\n",
    "print(mi_lista)"
   ]
  },
  {
   "cell_type": "code",
   "execution_count": 9,
   "metadata": {},
   "outputs": [
    {
     "name": "stdout",
     "output_type": "stream",
     "text": [
      "['Carolina', 35, 1.59, 'NA']\n",
      "1.59\n"
     ]
    }
   ],
   "source": [
    "mi_lista = [[\"Johan\",37,1.73,\"Ada\"],\n",
    "            [\"Sofía\",23,1.64,\"Gandalf\"],\n",
    "            [\"Andrea\",25,1.60,\"NA\"],\n",
    "            [\"Johanna\",44,1.58,\"3 hijos\"],\n",
    "            [\"Carolina\",35,1.59,\"NA\"]]\n",
    "print(mi_lista [4])\n",
    "print(mi_lista [4][2])"
   ]
  },
  {
   "cell_type": "markdown",
   "metadata": {},
   "source": [
    "En la anterior lista de listas, la posición 5 no existe entonces va a mostrar error, recordar que empiza en cero. \n",
    "Cada persona tiene 4 elementos, entonces se puede pedir el elemento que uno requiera de cada ítem. "
   ]
  },
  {
   "cell_type": "markdown",
   "metadata": {},
   "source": [
    "las listas tienen n dimensiones, se puede tener varias listas en una. "
   ]
  },
  {
   "cell_type": "markdown",
   "metadata": {},
   "source": [
    "¡Todo string o cadena de texto es una lista!"
   ]
  },
  {
   "cell_type": "markdown",
   "metadata": {},
   "source": [
    "Puedo hacer mil líneas de código para poder imprimir la información de una tabla, pero es ineficiente, por lo que requiero iterar. \n",
    "Con for puedo hacerlo, se le pone una variable temporal que va a almacenar cada uno de los elementos de la lista. "
   ]
  },
  {
   "cell_type": "code",
   "execution_count": 10,
   "metadata": {},
   "outputs": [
    {
     "name": "stdout",
     "output_type": "stream",
     "text": [
      "Johan\n",
      "Sofía\n",
      "Andrea\n",
      "Johanna\n",
      "Carolina\n"
     ]
    }
   ],
   "source": [
    "print(mi_lista [0][0])\n",
    "print(mi_lista [1][0])\n",
    "print(mi_lista [2][0])\n",
    "print(mi_lista [3][0])\n",
    "print(mi_lista [4][0])"
   ]
  },
  {
   "cell_type": "markdown",
   "metadata": {},
   "source": [
    "Esto anterior me muestra el nombre, pero es ineficiente si quiero sacar todos los elementos. \n",
    "\n",
    "Creo entonces una variable temporal que tenga relación con la base de datos. \n",
    "\n",
    "Si quiero un rango pongo 1:4, 1:100, cerrado a la izquiera y abierto a la derecha es decir que toma el 1 pero no toma el 100. \n"
   ]
  },
  {
   "cell_type": "code",
   "execution_count": 17,
   "metadata": {},
   "outputs": [
    {
     "name": "stdout",
     "output_type": "stream",
     "text": [
      "['Johan', 37, 1.73]\n",
      "['Sofía', 23, 1.64]\n",
      "['Andrea', 25, 1.6]\n",
      "['Johanna', 44, 1.58]\n",
      "['Carolina', 35, 1.59]\n"
     ]
    }
   ],
   "source": [
    "for persona in mi_lista:\n",
    "    print(persona[0:3])"
   ]
  },
  {
   "cell_type": "code",
   "execution_count": 18,
   "metadata": {},
   "outputs": [
    {
     "name": "stdout",
     "output_type": "stream",
     "text": [
      "['Johan', 37, 1.73, 'Ada']\n",
      "['Sofía', 23, 1.64, 'Gandalf']\n",
      "['Andrea', 25, 1.6, 'NA']\n",
      "['Johanna', 44, 1.58, '3 hijos']\n",
      "['Carolina', 35, 1.59, 'NA']\n"
     ]
    }
   ],
   "source": [
    "for persona in mi_lista:\n",
    "    print(persona)"
   ]
  },
  {
   "cell_type": "markdown",
   "metadata": {},
   "source": [
    "Una cadena es una lista. \n",
    "\n",
    "la variable temporal como persona, letra, puede ser reemplazada por lo que sea, no importa, es solo ponerle para que busque en la lista y va a buscar en el número de elementos que tenga, ya el nombre le dice. \n",
    "\n",
    "For: sirve para todo lo que se pueda iterar.\n",
    "\n",
    "el código dice que tome la variable n y almacene los valores de mi cadena o lista"
   ]
  },
  {
   "cell_type": "code",
   "execution_count": 24,
   "metadata": {},
   "outputs": [
    {
     "name": "stdout",
     "output_type": "stream",
     "text": [
      "e\n",
      "j\n",
      "e\n",
      "m\n",
      "p\n",
      "l\n",
      "o\n",
      " \n",
      "m\n",
      "á\n",
      "s\n",
      " \n",
      "s\n",
      "i\n",
      "m\n",
      "p\n",
      "l\n",
      "e\n"
     ]
    }
   ],
   "source": [
    "mi_cadena = \"ejemplo más simple\"\n",
    "for letra in mi_cadena:\n",
    "    print(letra)"
   ]
  },
  {
   "cell_type": "markdown",
   "metadata": {},
   "source": [
    "Puedo escribir un for dentro de un for (bucle dentro de un bucle) para imprimir cada dato dentro de la lista:"
   ]
  },
  {
   "cell_type": "code",
   "execution_count": 25,
   "metadata": {},
   "outputs": [
    {
     "name": "stdout",
     "output_type": "stream",
     "text": [
      "Johan\n",
      "37\n",
      "1.73\n",
      "Ada\n",
      "Sofía\n",
      "23\n",
      "1.64\n",
      "Gandalf\n",
      "Andrea\n",
      "25\n",
      "1.6\n",
      "NA\n",
      "Johanna\n",
      "44\n",
      "1.58\n",
      "3 hijos\n",
      "Carolina\n",
      "35\n",
      "1.59\n",
      "NA\n"
     ]
    }
   ],
   "source": [
    "for persona in mi_lista:\n",
    "    for dato in persona:\n",
    "        print(dato)"
   ]
  },
  {
   "cell_type": "code",
   "execution_count": 28,
   "metadata": {},
   "outputs": [
    {
     "name": "stdout",
     "output_type": "stream",
     "text": [
      "4\n",
      "2\n",
      "3\n",
      "4\n",
      "5\n"
     ]
    }
   ],
   "source": [
    "secuencia = [4,2,3,4,5]\n",
    "for variable in secuencia:\n",
    "    print(variable) # Código a ejecutar en cada iteración\n",
    "    "
   ]
  },
  {
   "cell_type": "markdown",
   "metadata": {},
   "source": [
    "Crear cuenta en leetcode, algoritmos, ordenar por dificultad, seleccionar two sum."
   ]
  },
  {
   "cell_type": "markdown",
   "metadata": {},
   "source": [
    "Creación de una función, se debe poner la palabra def que es una palabra reservada. Una función es una maquinita. \n",
    "\n",
    "¿cómo se escribe una función? \n",
    "se recomienda que sea verbos...\n",
    "\n",
    "Hay quen introducir los argumentos. num_a, num_b ambos son números. \n",
    "\n",
    "se pone return cuando se crea la función pero después no porque es para usarla. "
   ]
  },
  {
   "cell_type": "code",
   "execution_count": 29,
   "metadata": {},
   "outputs": [],
   "source": [
    "def sumar(num_a,num_b):\n",
    "    resultado = num_a + num_b\n",
    "    return resultado"
   ]
  },
  {
   "cell_type": "code",
   "execution_count": 32,
   "metadata": {},
   "outputs": [],
   "source": [
    "def sumar(num_a,num_b):\n",
    "    return num_a + num_b"
   ]
  },
  {
   "cell_type": "markdown",
   "metadata": {},
   "source": [
    "se puede hacer de alguna de las dos maneras. "
   ]
  },
  {
   "cell_type": "code",
   "execution_count": 30,
   "metadata": {},
   "outputs": [
    {
     "data": {
      "text/plain": [
       "13"
      ]
     },
     "execution_count": 30,
     "metadata": {},
     "output_type": "execute_result"
    }
   ],
   "source": [
    "sumar (6,7)"
   ]
  },
  {
   "cell_type": "code",
   "execution_count": 33,
   "metadata": {},
   "outputs": [
    {
     "name": "stdout",
     "output_type": "stream",
     "text": [
      "[['Sofía', 76, 1.73, 'Ada'], ['Sofía', 69, 1.64, 'Gandalf'], ['Andrea', 65, 1.6, 'NA'], ['Johanna', 54, 1.58, '3 hijos'], ['Carolina', 67, 1.59, 'NA']]\n"
     ]
    }
   ],
   "source": [
    "mi_lista = [[\"Sofía\",76,1.73,\"Ada\"],\n",
    "            [\"Sofía\",69,1.64,\"Gandalf\"],\n",
    "            [\"Andrea\",65,1.60,\"NA\"],\n",
    "            [\"Johanna\",54,1.58,\"3 hijos\"],\n",
    "            [\"Carolina\",67,1.59,\"NA\"]]\n",
    "print(mi_lista)"
   ]
  },
  {
   "cell_type": "code",
   "execution_count": 34,
   "metadata": {},
   "outputs": [],
   "source": [
    "def calcular_imc (peso,talla):\n",
    "    return peso/(talla**2)"
   ]
  },
  {
   "cell_type": "code",
   "execution_count": 38,
   "metadata": {},
   "outputs": [
    {
     "data": {
      "text/plain": [
       "18.078512396694215"
      ]
     },
     "execution_count": 38,
     "metadata": {},
     "output_type": "execute_result"
    }
   ],
   "source": [
    "calcular_imc (56,1.76)"
   ]
  },
  {
   "cell_type": "code",
   "execution_count": 36,
   "metadata": {},
   "outputs": [
    {
     "name": "stdout",
     "output_type": "stream",
     "text": [
      "El IMC de Sofía es 25.393431120318084\n",
      "El IMC de Sofía es 25.654372397382513\n",
      "El IMC de Andrea es 25.390624999999996\n",
      "El IMC de Johanna es 21.63114885435026\n",
      "El IMC de Carolina es 26.502116213757365\n"
     ]
    }
   ],
   "source": [
    "for persona in mi_lista:\n",
    "    imc = calcular_imc(persona[1],persona[2])\n",
    "    print(\"El IMC de\", persona [0],\"es\",imc)"
   ]
  },
  {
   "cell_type": "markdown",
   "metadata": {},
   "source": [
    "\n",
    "\n",
    "Tupla: lista no modificable. \n",
    "\n",
    "Diccionario: conjunto de elementos, no está ordenado, se puede modificar y cada elemento tiene un valor. \n",
    "\n"
   ]
  }
 ],
 "metadata": {
  "kernelspec": {
   "display_name": "Python 3",
   "language": "python",
   "name": "python3"
  },
  "language_info": {
   "codemirror_mode": {
    "name": "ipython",
    "version": 3
   },
   "file_extension": ".py",
   "mimetype": "text/x-python",
   "name": "python",
   "nbconvert_exporter": "python",
   "pygments_lexer": "ipython3",
   "version": "3.10.10"
  }
 },
 "nbformat": 4,
 "nbformat_minor": 2
}
