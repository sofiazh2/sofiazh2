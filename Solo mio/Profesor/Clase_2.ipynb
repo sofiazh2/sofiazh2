{
 "cells": [
  {
   "cell_type": "code",
   "execution_count": null,
   "metadata": {},
   "outputs": [],
   "source": []
  },
  {
   "cell_type": "code",
   "execution_count": 2,
   "metadata": {},
   "outputs": [],
   "source": [
    "Nombre = input(\"ingres un nombre\")\n",
    "Edad = int(input(\"Ingresar su edad\"))\n"
   ]
  },
  {
   "cell_type": "code",
   "execution_count": 4,
   "metadata": {},
   "outputs": [
    {
     "name": "stdout",
     "output_type": "stream",
     "text": [
      "Mayor de edad\n"
     ]
    }
   ],
   "source": [
    "# crear una variable edad y otra sexo con input y utilizar if para determinar si la persona es mayor de edad#\n",
    "\n",
    "Edad = int(input(\"que edad tienes\"))\n",
    "if Edad >= 18:\n",
    "     print (\"Mayor de edad\")\n",
    "else:\n",
    "     print (\"Menor de edad\")\n",
    "    "
   ]
  },
  {
   "cell_type": "code",
   "execution_count": 10,
   "metadata": {},
   "outputs": [
    {
     "name": "stdout",
     "output_type": "stream",
     "text": [
      "eres Adulto mayor\n"
     ]
    }
   ],
   "source": [
    "Edad = int(input(\"que edad tienes\"))\n",
    "if Edad <= 8:\n",
    "     print (\"eres Niño\")\n",
    "elif 8> Edad <= 15:\n",
    "     print (\"eres Adolecente\")\n",
    "elif 15> Edad <= 18: \n",
    "     print (\"eres Joven\")    \n",
    "elif 18 < Edad <= 40:\n",
    "     print (\"eres Adulto\")    \n",
    "else:\n",
    "     print (\"eres Adulto mayor\")"
   ]
  },
  {
   "cell_type": "code",
   "execution_count": 9,
   "metadata": {},
   "outputs": [
    {
     "name": "stdout",
     "output_type": "stream",
     "text": [
      "eres Adulto\n"
     ]
    }
   ],
   "source": [
    "## Una forma mas correcta de hacer y mas eficiente##\n",
    "\n",
    "Edad = int(input(\"que edad tienes\"))\n",
    "if Edad <= 8:\n",
    "     print (\"eres Niño\")\n",
    "elif Edad < 15:\n",
    "     print (\"eres Adolecente\")\n",
    "elif Edad <18: \n",
    "     print (\"eres Joven\")    \n",
    "elif Edad <40:\n",
    "     print (\"eres Adulto\")    \n",
    "else:\n",
    "     print (\"eres Adulto mayor\")"
   ]
  },
  {
   "cell_type": "code",
   "execution_count": 13,
   "metadata": {},
   "outputs": [
    {
     "ename": "NameError",
     "evalue": "name 'sexo' is not defined",
     "output_type": "error",
     "traceback": [
      "\u001b[1;31m---------------------------------------------------------------------------\u001b[0m",
      "\u001b[1;31mNameError\u001b[0m                                 Traceback (most recent call last)",
      "Cell \u001b[1;32mIn[13], line 6\u001b[0m\n\u001b[0;32m      3\u001b[0m Sexo \u001b[38;5;241m=\u001b[39m \u001b[38;5;28minput\u001b[39m(\u001b[38;5;124m\"\u001b[39m\u001b[38;5;124mque sexo eres? (M/F):\u001b[39m\u001b[38;5;124m\"\u001b[39m)\n\u001b[0;32m      4\u001b[0m pam \u001b[38;5;241m=\u001b[39m \u001b[38;5;28minput\u001b[39m(\u001b[38;5;124m\"\u001b[39m\u001b[38;5;124mIntruduce tu pam\u001b[39m\u001b[38;5;124m\"\u001b[39m)\n\u001b[1;32m----> 6\u001b[0m \u001b[38;5;28;01mif\u001b[39;00m \u001b[43msexo\u001b[49m \u001b[38;5;241m==\u001b[39m \u001b[38;5;124m\"\u001b[39m\u001b[38;5;124mM\u001b[39m\u001b[38;5;124m\"\u001b[39m:\n\u001b[0;32m      7\u001b[0m    \u001b[38;5;28;01mif\u001b[39;00m pam \u001b[38;5;241m<\u001b[39m \u001b[38;5;241m100\u001b[39m:\n\u001b[0;32m      8\u001b[0m       \u001b[38;5;28mprint\u001b[39m(\u001b[38;5;124m\"\u001b[39m\u001b[38;5;124mEste hombre tiene hipotension\u001b[39m\u001b[38;5;124m\"\u001b[39m)\n",
      "\u001b[1;31mNameError\u001b[0m: name 'sexo' is not defined"
     ]
    }
   ],
   "source": [
    "## Clasificación sexo con presion arterial#\n",
    "\n",
    "Sexo = input(\"que sexo eres? (M/F):\")\n",
    "pam = input(\"Intruduce tu pam\")\n",
    "\n",
    "if sexo == \"M\":\n",
    "   if pam < 100:\n",
    "      print(\"Este hombre tiene hipotension\")\n",
    "   elif pam < 140:\n",
    "      print(\"este hombre tiene tension normal\") \n",
    "   else:\n",
    "      print(\"este hombre tiene hipertension\")    \n",
    "\n",
    "else:\n",
    "   if pam < 100:\n",
    "      print(\"Este mujer tiene hipotension\")\n",
    "   elif pam < 140:\n",
    "      print(\"este mujer tiene tension normal\") \n",
    "   else:\n",
    "      print(\"este mujer tiene hipertension\")    \n",
    "      \n",
    "\n",
    "\n",
    "\n",
    "       \n"
   ]
  }
 ],
 "metadata": {
  "kernelspec": {
   "display_name": "Python 3",
   "language": "python",
   "name": "python3"
  },
  "language_info": {
   "codemirror_mode": {
    "name": "ipython",
    "version": 3
   },
   "file_extension": ".py",
   "mimetype": "text/x-python",
   "name": "python",
   "nbconvert_exporter": "python",
   "pygments_lexer": "ipython3",
   "version": "3.10.11"
  }
 },
 "nbformat": 4,
 "nbformat_minor": 2
}
