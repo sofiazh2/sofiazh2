{
 "cells": [
  {
   "cell_type": "markdown",
   "metadata": {},
   "source": [
    "# Introducción a la Programación en Python para el Análisis de Datos\n",
    "\n",
    "![Python Logo](https://www.python.org/static/community_logos/python-logo.png)\n",
    "\n",
    "## ¿Por qué Python para el Análisis de Datos?\n",
    "\n",
    "Python es uno de los lenguajes de programación más utilizados en el análisis de datos debido a su simplicidad, versatilidad y la gran cantidad de bibliotecas especializadas disponibles. Su sintaxis clara y su comunidad activa hacen que sea una excelente opción tanto para principiantes como para expertos.\n",
    "\n",
    "## Instalación de Python y JupyterLab\n",
    "\n",
    "Antes de empezar a programar, necesitas instalar Python y JupyterLab, que es una herramienta popular para trabajar con notebooks.\n",
    "\n",
    "### Instalación de Python\n",
    "\n",
    "1. Visita la [página oficial de Python](https://www.python.org/downloads/) y descarga la última versión de Python.\n",
    "2. Sigue las instrucciones de instalación específicas para tu sistema operativo.\n",
    "\n",
    "## Bibliotecas Esenciales para el Análisis de Datos\n",
    "\n",
    "Python cuenta con varias bibliotecas que son fundamentales para el análisis de datos. A continuación, se presentan algunas de las más utilizadas y cómo instalarlas:\n",
    "\n",
    "### 1. NumPy\n",
    "\n",
    "NumPy es la biblioteca fundamental para la computación científica en Python. Proporciona soporte para arreglos y matrices de grandes dimensiones, junto con una colección de funciones matemáticas para operar con estos objetos.\n",
    "\n",
    "- Instalación:\n",
    "\n",
    "    ```bash\n",
    "    pip install numpy\n",
    "    ```\n",
    "\n",
    "### 2. Pandas\n",
    "\n",
    "Pandas es una biblioteca esencial para el análisis de datos, que proporciona estructuras de datos y herramientas para manejar datos etiquetados y tabulares.\n",
    "\n",
    "- Instalación:\n",
    "\n",
    "    ```bash\n",
    "    pip install pandas\n",
    "    ```\n",
    "\n",
    "### 3. Matplotlib\n",
    "\n",
    "Matplotlib es una biblioteca de trazado 2D que permite generar gráficos y visualizaciones de datos en una amplia variedad de formatos.\n",
    "\n",
    "- Instalación:\n",
    "\n",
    "    ```bash\n",
    "    pip install matplotlib\n",
    "    ```\n",
    "\n",
    "### 4. Seaborn\n",
    "\n",
    "Seaborn es una biblioteca basada en Matplotlib que facilita la creación de gráficos estadísticos atractivos y con estilo.\n",
    "\n",
    "- Instalación:\n",
    "\n",
    "    ```bash\n",
    "    pip install seaborn\n",
    "    ```\n",
    "\n",
    "### 5. SciPy\n",
    "\n",
    "SciPy es una biblioteca que extiende las capacidades de NumPy con funciones adicionales para la optimización, la integración, la interpolación, la álgebra lineal y otras tareas científicas.\n",
    "\n",
    "- Instalación:\n",
    "\n",
    "    ```bash\n",
    "    pip install scipy\n",
    "    ```\n",
    "\n",
    "### 6. Scikit-learn\n",
    "\n",
    "Scikit-learn es una biblioteca para el aprendizaje automático en Python, que proporciona herramientas simples y eficientes para la minería de datos y el análisis de datos.\n",
    "\n",
    "- Instalación:\n",
    "\n",
    "    ```bash\n",
    "    pip install scikit-learn\n",
    "    ```"
   ]
  },
  {
   "cell_type": "markdown",
   "metadata": {},
   "source": [
    "## Variables y Tipos de Datos\n",
    "\n",
    "En Python, las **variables** son contenedores que se utilizan para almacenar datos que pueden cambiar a lo largo de la ejecución de un programa. Python es un lenguaje de tipado dinámico, lo que significa que no necesitas declarar el tipo de variable antes de asignarle un valor; Python lo determina automáticamente.\n",
    "\n",
    "### Asignación de Variables\n",
    "\n",
    "Puedes asignar un valor a una variable utilizando el operador `=`. A continuación se muestra un ejemplo:"
   ]
  },
  {
   "cell_type": "code",
   "execution_count": null,
   "metadata": {},
   "outputs": [],
   "source": [
    "nombre = \"Juan\"\n",
    "edad = 30\n",
    "altura = 1.75"
   ]
  },
  {
   "cell_type": "markdown",
   "metadata": {},
   "source": [
    "En este ejemplo:\n",
    "\n",
    "- `nombre` es una variable que almacena una cadena de texto (o string).\n",
    "- `edad` es una variable que almacena un número entero (o integer).\n",
    "- `altura` es una variable que almacena un número de punto flotante (o float).\n",
    "\n",
    "## Tipos de Datos Comunes\n",
    "\n",
    "Python admite varios tipos de datos, los más comunes son:\n",
    "\n",
    "- **Cadenas de texto (Strings)**: Se utilizan para almacenar texto. Se declaran usando comillas simples (`'`) o dobles (`\"`).\n",
    "    - Ejemplo: `nombre = \"Juan\"`\n",
    "\n",
    "- **Números enteros (Integers)**: Se utilizan para almacenar números enteros, sin decimales.\n",
    "    - Ejemplo: `edad = 30`\n",
    "\n",
    "- **Números de punto flotante (Floats)**: Se utilizan para almacenar números que tienen una parte decimal.\n",
    "    - Ejemplo: `altura = 1.75`\n",
    "\n",
    "- **Listas (Lists)**: Se utilizan para almacenar varios elementos en una sola variable. Los elementos de una lista están separados por comas y se encierran entre corchetes (`[]`).\n",
    "    - Ejemplo: `frutas = [\"manzana\", \"banana\", \"cereza\"]`\n",
    "\n",
    "- **Diccionarios (Dictionaries)**: Se utilizan para almacenar pares de clave-valor. Se declaran usando llaves (`{}`), y cada par de clave-valor está separado por dos puntos (`:`).\n",
    "    - Ejemplo: `estudiante = {\"nombre\": \"Juan\", \"edad\": 30, \"ciudad\": \"Bogotá\"}`\n",
    "\n",
    "## Imprimir Variables\n",
    "\n",
    "Puedes mostrar el valor de una variable utilizando la función `print()`:\n"
   ]
  },
  {
   "cell_type": "code",
   "execution_count": null,
   "metadata": {},
   "outputs": [],
   "source": [
    "print(\"Nombre:\", nombre)\n",
    "print(\"Edad:\", edad)\n",
    "print(\"Altura:\", altura)"
   ]
  },
  {
   "cell_type": "markdown",
   "metadata": {},
   "source": [
    "Este código imprimirá:\n",
    "\n",
    "- Nombre: Juan\n",
    "- Edad: 30\n",
    "- Altura: 1.75"
   ]
  },
  {
   "cell_type": "markdown",
   "metadata": {},
   "source": [
    "## Cambiar el Valor de una Variable\n",
    "\n",
    "Puedes cambiar el valor de una variable en cualquier momento durante la ejecución de un programa:"
   ]
  },
  {
   "cell_type": "code",
   "execution_count": null,
   "metadata": {},
   "outputs": [],
   "source": [
    "edad = 31  # Ahora la variable edad tiene un nuevo valor\n",
    "print(\"Edad actualizada:\", edad)"
   ]
  },
  {
   "cell_type": "markdown",
   "metadata": {},
   "source": [
    "## Comprobando el Tipo de Dato\n",
    "Puedes comprobar el tipo de dato de una variable utilizando la función type():"
   ]
  },
  {
   "cell_type": "code",
   "execution_count": null,
   "metadata": {},
   "outputs": [],
   "source": [
    "print(type(nombre))  # Esto devolverá <class 'str'>\n",
    "print(type(edad))    # Esto devolverá <class 'int'>\n",
    "print(type(altura))  # Esto devolverá <class 'float'>"
   ]
  },
  {
   "cell_type": "code",
   "execution_count": null,
   "metadata": {},
   "outputs": [],
   "source": []
  },
  {
   "cell_type": "markdown",
   "metadata": {},
   "source": [
    "# Estructuras de Control\n",
    "\n",
    "Las **estructuras de control** en Python permiten controlar el flujo de ejecución de un programa, es decir, determinar qué bloques de código se ejecutan y cuándo. Las principales estructuras de control son los **condicionales** y los **bucles**.\n",
    "\n",
    "### Condicionales\n",
    "\n",
    "Los condicionales permiten ejecutar código basado en si una condición es verdadera o falsa. La estructura básica de un condicional en Python es el `if`, que se puede complementar con `elif` (else if) y `else`.\n",
    "\n",
    "#### Estructura básica de un condicional\n",
    "\n",
    "```python\n",
    "if condición:\n",
    "    # Código a ejecutar si la condición es verdadera\n",
    "elif otra_condición:\n",
    "    # Código a ejecutar si la otra_condición es verdadera\n",
    "else:\n",
    "    # Código a ejecutar si ninguna de las condiciones anteriores es verdadera\n"
   ]
  },
  {
   "cell_type": "markdown",
   "metadata": {},
   "source": [
    "Ejemplo de Condicional Simple\n",
    "\n",
    "Vamos a crear un ejemplo en el que determinamos si una persona es mayor de edad o menor de edad:"
   ]
  },
  {
   "cell_type": "code",
   "execution_count": null,
   "metadata": {},
   "outputs": [],
   "source": [
    "sexo = input(\"Introduce tu sexo (H/M): \")\n",
    "pam = input(\"Introduce tu pam: \")\n",
    "\n",
    "if sexo == \"H\":\n",
    "    if pam < 100:\n",
    "        print(\"Este hombre tiene hipotensión\")\n",
    "    elif pam < 140:\n",
    "        print(\"Este hombre tiene tensión normal\")\n",
    "    else:\n",
    "        print(\"Este hombre tiene hipertensión\")\n",
    "else:\n",
    "    if pam < 90:\n",
    "        print(\"Esta mujer tiene hipotensión\")\n",
    "    elif pam < 120:\n",
    "        print(\"Esta mujer tiene tensión normal\")\n",
    "    else:\n",
    "        print(\"Esta mujer tiene hipertensión\")\n",
    "\n"
   ]
  },
  {
   "cell_type": "markdown",
   "metadata": {},
   "source": [
    "### Paso a paso:\n",
    "\n",
    "1. **Definir la variable `edad`**: Se asigna el valor 20 a la variable `edad`.\n",
    "2. **Condición `if`**: La condición `edad >= 18` verifica si la persona tiene 18 años o más.\n",
    "    - Si esta condición es verdadera (en este caso, lo es), se ejecuta el bloque de código dentro del `if`, que imprime \"Es mayor de edad\".\n",
    "3. **Bloque `else`**: Si la condición no es verdadera (es decir, si `edad` es menor que 18), se ejecutaría el bloque de código dentro del `else`, que imprimiría \"Es menor de edad\".\n",
    "\n",
    "### Uso de `elif` para múltiples condiciones\n",
    "\n",
    "Supongamos que queremos clasificar a las personas en diferentes grupos de edad:\n"
   ]
  },
  {
   "cell_type": "code",
   "execution_count": null,
   "metadata": {},
   "outputs": [],
   "source": [
    "edad = 45\n",
    "\n",
    "if edad < 18:\n",
    "    print(\"Es menor de edad\")\n",
    "elif 18 <= edad < 65:\n",
    "    print(\"Es un adulto\")\n",
    "else:\n",
    "    print(\"Es un adulto mayor\")"
   ]
  },
  {
   "cell_type": "markdown",
   "metadata": {},
   "source": [
    "### Paso a paso:\n",
    "\n",
    "1. **Definir la variable `edad`**: Se asigna el valor 45 a la variable `edad`.\n",
    "2. **Primera condición `if`**: La condición `edad < 18` se evalúa.\n",
    "    - Si es verdadera, se ejecuta el bloque de código que imprime \"Es menor de edad\".\n",
    "    - En este caso, la condición es falsa, así que Python pasa a la siguiente condición.\n",
    "3. **Condición `elif`**: La condición `18 <= edad < 65` se evalúa.\n",
    "    - Si es verdadera (en este caso, lo es), se ejecuta el bloque de código que imprime \"Es un adulto\".\n",
    "4. **Bloque `else`**: Si ninguna de las condiciones anteriores es verdadera, se ejecuta el código en el bloque `else`, que imprimiría \"Es un adulto mayor\".\n",
    "\n",
    "### Bucles\n",
    "\n",
    "Los bucles permiten repetir una sección de código varias veces. Python tiene dos tipos principales de bucles: `for` y `while`.\n",
    "\n",
    "#### Bucle `for`\n",
    "\n",
    "El bucle `for` se utiliza para iterar sobre una secuencia (como una lista, una cadena o un rango de números). Es útil cuando conoces de antemano cuántas veces necesitas repetir una acción.\n",
    "\n",
    "**Estructura básica de un bucle `for`:**\n"
   ]
  },
  {
   "cell_type": "code",
   "execution_count": null,
   "metadata": {},
   "outputs": [],
   "source": [
    "secuencia = [4, 2, 3, 4, 5]\n",
    "for variable in secuencia:\n",
    "    print(variable) # Código a ejecutar en cada iteración"
   ]
  },
  {
   "cell_type": "markdown",
   "metadata": {},
   "source": [
    "Ejemplo de Bucle for\n",
    "\n",
    "Vamos a crear un bucle que imprima los números del 0 al 4:"
   ]
  },
  {
   "cell_type": "code",
   "execution_count": null,
   "metadata": {},
   "outputs": [],
   "source": [
    "for i in range(5):\n",
    "    print(\"Número:\", i)"
   ]
  },
  {
   "cell_type": "markdown",
   "metadata": {},
   "source": [
    "### Paso a paso:\n",
    "\n",
    "1. **Definir el bucle `for`**: El bucle se configura para iterar sobre un rango de números del 0 al 4 (`range(5)`).\n",
    "    - `range(5)` genera una secuencia de números que va desde 0 hasta 4.\n",
    "2. **Variable `i`**: En cada iteración del bucle, la variable `i` toma el siguiente valor de la secuencia.\n",
    "    - En la primera iteración, `i` es 0; en la segunda iteración, `i` es 1, y así sucesivamente.\n",
    "3. **Imprimir `i`**: En cada iteración, el valor actual de `i` se imprime junto con el texto \"Número:\".\n",
    "    - El resultado será:\n"
   ]
  },
  {
   "cell_type": "markdown",
   "metadata": {},
   "source": [
    "### Bucle `while`\n",
    "\n",
    "El bucle `while` repite una sección de código mientras una condición sea verdadera. Es útil cuando no sabes cuántas veces se necesita repetir una acción, pero sí sabes la condición que debe cumplirse para que continúe.\n",
    "\n",
    "**Estructura básica de un bucle `while`:**\n",
    "\n",
    "```Python\n",
    "while condición:\n",
    "    # Código a ejecutar mientras la condición sea verdadera\n"
   ]
  },
  {
   "cell_type": "markdown",
   "metadata": {},
   "source": [
    "Ejemplo de Bucle while\n",
    "\n",
    "Vamos a crear un bucle que imprima un contador del 0 al 4:"
   ]
  },
  {
   "cell_type": "code",
   "execution_count": null,
   "metadata": {},
   "outputs": [],
   "source": [
    "contador = 0\n",
    "\n",
    "while contador < 5:\n",
    "    print(\"Contador:\", contador)\n",
    "    contador += 1"
   ]
  },
  {
   "cell_type": "markdown",
   "metadata": {},
   "source": [
    "### Paso a paso:\n",
    "\n",
    "1. **Inicializar la variable `contador`**: Se asigna el valor 0 a la variable `contador`.\n",
    "2. **Condición `while`**: La condición `contador < 5` se evalúa al inicio de cada iteración.\n",
    "    - Si la condición es verdadera (como lo es inicialmente), se ejecuta el bloque de código dentro del `while`.\n",
    "3. **Imprimir `contador`**: En cada iteración, se imprime el valor actual de `contador`.\n",
    "4. **Incrementar `contador`**: Se aumenta el valor de `contador` en 1 (`contador += 1`).\n",
    "    - Este paso es crucial para evitar un bucle infinito. Sin este incremento, `contador` siempre sería 0, y el bucle se repetiría indefinidamente.\n",
    "5. **Salir del bucle**: Cuando `contador` alcanza el valor 5, la condición `contador < 5` se vuelve falsa, y el bucle termina.\n",
    "\n",
    "El resultado será:\n",
    "\n",
    "```Python\n",
    "Contador: 0\n",
    "Contador: 1\n",
    "Contador: 2\n",
    "Contador: 3\n",
    "Contador: 4"
   ]
  }
 ],
 "metadata": {
  "kernelspec": {
   "display_name": "Python 3",
   "language": "python",
   "name": "python3"
  },
  "language_info": {
   "codemirror_mode": {
    "name": "ipython",
    "version": 3
   },
   "file_extension": ".py",
   "mimetype": "text/x-python",
   "name": "python",
   "nbconvert_exporter": "python",
   "pygments_lexer": "ipython3",
   "version": "3.11.1"
  }
 },
 "nbformat": 4,
 "nbformat_minor": 2
}
