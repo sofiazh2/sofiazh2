{
 "cells": [
  {
   "cell_type": "code",
   "execution_count": 15,
   "metadata": {},
   "outputs": [],
   "source": [
    "Nombre = input(\"Ingrese un nombre:\")\n",
    "Edad = int(input(\"Ingrese su edad\"))"
   ]
  },
  {
   "cell_type": "code",
   "execution_count": 17,
   "metadata": {},
   "outputs": [
    {
     "name": "stdout",
     "output_type": "stream",
     "text": [
      "Nombre ingresado: Carola\n"
     ]
    }
   ],
   "source": [
    "print(\"Nombre ingresado:\", Nombre)"
   ]
  },
  {
   "cell_type": "markdown",
   "metadata": {},
   "source": [
    "Función INPUT muestra un mensaje a la persona, puede ser cualquier texto como un nombre, ese argumento luego me sale en la barra de arriba. "
   ]
  },
  {
   "cell_type": "code",
   "execution_count": 21,
   "metadata": {},
   "outputs": [
    {
     "name": "stdout",
     "output_type": "stream",
     "text": [
      "True\n"
     ]
    }
   ],
   "source": [
    "Edad = 34\n",
    "\n",
    "print(Edad>18)\n",
    "\n"
   ]
  },
  {
   "cell_type": "markdown",
   "metadata": {},
   "source": [
    "Esta anterior no es una estructura de control pero también puede usarse."
   ]
  },
  {
   "cell_type": "code",
   "execution_count": 26,
   "metadata": {},
   "outputs": [
    {
     "name": "stdout",
     "output_type": "stream",
     "text": [
      "Mayor de edad\n"
     ]
    }
   ],
   "source": [
    "Edad = 34\n",
    "if Edad > 18:\n",
    "    print(\"Mayor de edad\")"
   ]
  },
  {
   "cell_type": "markdown",
   "metadata": {},
   "source": [
    "Siempre que se use una estructura de control se debe poner los dos puntos : \n",
    "If no puede ser usada para asignar a otra variable. \n",
    "Siempre está identado o espaciado, un tab o 4 espacios. "
   ]
  },
  {
   "cell_type": "code",
   "execution_count": 30,
   "metadata": {},
   "outputs": [
    {
     "name": "stdout",
     "output_type": "stream",
     "text": [
      "Mayor de edad\n"
     ]
    }
   ],
   "source": [
    "Edad = int(input(\"la edad de la persona es\"))\n",
    "if Edad > 18:\n",
    "    print(\"Mayor de edad\")\n",
    "else:\n",
    "    print(\"Menor de edad\")"
   ]
  },
  {
   "cell_type": "code",
   "execution_count": null,
   "metadata": {},
   "outputs": [],
   "source": [
    "Edad = 34"
   ]
  },
  {
   "cell_type": "markdown",
   "metadata": {},
   "source": [
    "Cuando le doy valor exacto a la edad ya quemé la variable, para eso uso input, ya que en la barra de bùsqueda puedo poner la edad que quiera y saber la respuesta. Input es para muchas variables. "
   ]
  },
  {
   "cell_type": "code",
   "execution_count": 38,
   "metadata": {},
   "outputs": [
    {
     "name": "stdout",
     "output_type": "stream",
     "text": [
      "niño\n"
     ]
    }
   ],
   "source": [
    "Rango_etario = int(input(\"la edad de la persona es\"))\n",
    "if Rango_etario <= 10:\n",
    "    print(\"niño\")"
   ]
  },
  {
   "cell_type": "code",
   "execution_count": 41,
   "metadata": {},
   "outputs": [
    {
     "name": "stdout",
     "output_type": "stream",
     "text": [
      "niño\n"
     ]
    }
   ],
   "source": [
    "Rango_etario = int(input(\"la edad de la persona es\"))\n",
    "if Rango_etario <= 10:\n",
    "    print(\"niño\")\n",
    "else:\n",
    "    print(\"adolescente, adulto o adulto mayor\")\n",
    "    "
   ]
  },
  {
   "cell_type": "code",
   "execution_count": 37,
   "metadata": {},
   "outputs": [
    {
     "name": "stdout",
     "output_type": "stream",
     "text": [
      "adolescente\n"
     ]
    }
   ],
   "source": [
    "Rango_etario = int(input(\"la edad de la persona es\"))\n",
    "if Rango_etario <= 10:\n",
    "    print(\"niño\")\n",
    "elif Rango_etario >10<16:\n",
    "    print(\"adolescente\")"
   ]
  },
  {
   "cell_type": "markdown",
   "metadata": {},
   "source": [
    "Rango_etario = int(input(\"la edad de la persona es\"))\n",
    "\n",
    "if Rango_etario <= 10:\n",
    "\n",
    "    print(\"niño\")\n",
    "\n",
    "elif Rango_etario >10<16:\n",
    "\n",
    "    print(\"adolescente\")\n",
    "\n",
    "Esto no se puede hacer de esta manera porque asocia los dos > o < de manera independiente y no como un rango. \n"
   ]
  },
  {
   "cell_type": "markdown",
   "metadata": {},
   "source": [
    "Una forma de hacerlo es la siguiente, pero no es tan eficiente:"
   ]
  },
  {
   "cell_type": "code",
   "execution_count": 43,
   "metadata": {},
   "outputs": [
    {
     "name": "stdout",
     "output_type": "stream",
     "text": [
      "adulto joven\n"
     ]
    }
   ],
   "source": [
    "Rango_etario = int(input(\"la edad de la persona es\"))\n",
    "if Rango_etario <= 10:\n",
    "    print(\"niño\")\n",
    "if 10<= Rango_etario <16:\n",
    "    print(\"adolescente\")\n",
    "if 17<=Rango_etario <30:\n",
    "    print(\"adulto joven\")\n"
   ]
  },
  {
   "cell_type": "markdown",
   "metadata": {},
   "source": [
    "La forma más eficiente sería utilizando la sentencia elif: "
   ]
  },
  {
   "cell_type": "code",
   "execution_count": 44,
   "metadata": {},
   "outputs": [
    {
     "name": "stdout",
     "output_type": "stream",
     "text": [
      "adulto mayor\n"
     ]
    }
   ],
   "source": [
    "Rango_etario = int(input(\"la edad de la persona es\"))\n",
    "if Rango_etario <= 10:\n",
    "    print(\"niño\")\n",
    "elif Rango_etario <16:\n",
    "    print(\"adolescente\")\n",
    "elif Rango_etario <30:\n",
    "    print(\"adulto joven\")\n",
    "elif Rango_etario <65:\n",
    "    print(\"adulto\")\n",
    "else:\n",
    "    print(\"adulto mayor\")"
   ]
  },
  {
   "cell_type": "code",
   "execution_count": 60,
   "metadata": {},
   "outputs": [
    {
     "name": "stdout",
     "output_type": "stream",
     "text": [
      "Mujer Hipertensa\n"
     ]
    }
   ],
   "source": [
    "Presion = int(input(\"la presion arterial media es\"))\n",
    "Sexo = input (\"Ingrese su sexo como H o M\")\n",
    "if Presion <130 and Sexo == \"H\":\n",
    "    print(\"Hombre normoteso\")\n",
    "elif Presion >130 and Sexo == \"H\":\n",
    "    print(\"Hombre Hipertenso\")\n",
    "if Presion <130 and Sexo == \"M\":\n",
    "    print(\"Mujer normotesa\")\n",
    "elif Presion >130 and Sexo == \"M\":\n",
    "    print(\"Mujer Hipertensa\")"
   ]
  },
  {
   "cell_type": "markdown",
   "metadata": {},
   "source": [
    "el conector and debe ser escrito en minúscula. \n",
    "uso el == para comparar con el otro valor de la misma variable. \n",
    "\n",
    "Este código anterior es menos eficiente que el que sigue, este último es la menor manera de hacerlo en este caso. "
   ]
  },
  {
   "cell_type": "code",
   "execution_count": 62,
   "metadata": {},
   "outputs": [
    {
     "name": "stdout",
     "output_type": "stream",
     "text": [
      "Mujer hipotensa\n"
     ]
    }
   ],
   "source": [
    "Presion = int(input(\"la presion arterial media es\"))\n",
    "Sexo = input (\"Ingrese su sexo como H o M\")\n",
    "if Sexo == \"H\":\n",
    "    if Presion <100:\n",
    "        print(\"Hombre hipotenso\")\n",
    "    elif Presion <130:\n",
    "        print(\"Hombre normoteso\")\n",
    "    else:\n",
    "        print(\"Hombre hipertenso\")\n",
    "if Sexo == \"M\":\n",
    "    if Presion <100:\n",
    "        print(\"Mujer hipotensa\")\n",
    "    elif Presion <130:\n",
    "        print(\"Mujer normotesa\")\n",
    "    else:\n",
    "        print(\"Mujer hipertensa\")"
   ]
  },
  {
   "cell_type": "markdown",
   "metadata": {},
   "source": [
    "Escritura en Phyton\n",
    "\n",
    "Cuando son constantes se ponen en MAYÚSCULA\n",
    "PI= 3.1416\n",
    "AVO= 6.023e23\n",
    "\n",
    "Variables\n",
    "minuscula y separada por _  \n",
    "El programa no recibe tildes ni ñ. \n",
    "\n",
    "funciones \n",
    "son verbos \n"
   ]
  }
 ],
 "metadata": {
  "kernelspec": {
   "display_name": "Python 3",
   "language": "python",
   "name": "python3"
  },
  "language_info": {
   "codemirror_mode": {
    "name": "ipython",
    "version": 3
   },
   "file_extension": ".py",
   "mimetype": "text/x-python",
   "name": "python",
   "nbconvert_exporter": "python",
   "pygments_lexer": "ipython3",
   "version": "3.10.10"
  }
 },
 "nbformat": 4,
 "nbformat_minor": 2
}
